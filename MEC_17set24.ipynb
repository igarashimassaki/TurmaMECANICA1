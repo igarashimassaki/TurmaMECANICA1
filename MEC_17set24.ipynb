{
  "nbformat": 4,
  "nbformat_minor": 0,
  "metadata": {
    "colab": {
      "provenance": [],
      "authorship_tag": "ABX9TyNYmLsylB6zaGuPfCFu0mUB",
      "include_colab_link": true
    },
    "kernelspec": {
      "name": "python3",
      "display_name": "Python 3"
    },
    "language_info": {
      "name": "python"
    }
  },
  "cells": [
    {
      "cell_type": "markdown",
      "metadata": {
        "id": "view-in-github",
        "colab_type": "text"
      },
      "source": [
        "<a href=\"https://colab.research.google.com/github/igarashimassaki/TurmaMECANICA1/blob/main/MEC_17set24.ipynb\" target=\"_parent\"><img src=\"https://colab.research.google.com/assets/colab-badge.svg\" alt=\"Open In Colab\"/></a>"
      ]
    },
    {
      "cell_type": "markdown",
      "source": [
        "## 01) Elaborar um programa em python que solicite ao usuário um valor inteiro e em seguida informe ao usuário de o valor é múltiplo de 3 ou não. A seguir o pseudocódigo referente ao algoritmo do programa:\n",
        "\n",
        "início\n",
        "\n",
        "    inteiro: x, y\n",
        "\n",
        "    Ler x\n",
        "\n",
        "    r = resto da divisao de x por 3\n",
        "\n",
        "    se (r==0) então:\n",
        "\n",
        "      escrever \"Múltiplo\"\n",
        "\n",
        "    senão:\n",
        "\n",
        "      escrever \"Não múltiplo\"\n",
        "\n",
        "    fim se\n",
        "\n",
        "fim"
      ],
      "metadata": {
        "id": "nAzR-F_bUeRd"
      }
    },
    {
      "cell_type": "code",
      "execution_count": 3,
      "metadata": {
        "colab": {
          "base_uri": "https://localhost:8080/"
        },
        "id": "AvPWPKvdC_sJ",
        "outputId": "3be78630-8597-49c4-9b67-7925a3a6eefd"
      },
      "outputs": [
        {
          "output_type": "stream",
          "name": "stdout",
          "text": [
            "Digite x: 24\n",
            "Múltiplo\n"
          ]
        }
      ],
      "source": [
        "x = int(input(\"Digite x: \"))\n",
        "r = x % 3\n",
        "if r==0:\n",
        "  print(\"Múltiplo\")\n",
        "else:\n",
        "  print(\"Não múltiplo\")"
      ]
    },
    {
      "cell_type": "markdown",
      "source": [
        "Ex02) Dadas as notas a e b de um aluno, com pesos respectivamente 2 e 3; pede-se elaborar um programa em Python para calcular e exibir a média ponderada do aluno, verificar e informar, jjunto ao valor da sua mádia, se foi aprovado ou não (OBS: Considere aprovado se obtiver média igual ou superior a 5)."
      ],
      "metadata": {
        "id": "X4EKhVGqSntt"
      }
    },
    {
      "cell_type": "code",
      "source": [
        "n1 = float(input(\"Digite a nota 1: \"))\n",
        "n2 = float(input(\"Digite a nota 2: \"))\n",
        "m = (2*n1 + 3*n2)/5\n",
        "if m>=5:\n",
        "  print(\"Aprovado\")\n",
        "else:\n",
        "  print(\"Reprovado\")\n",
        "print(m)"
      ],
      "metadata": {
        "colab": {
          "base_uri": "https://localhost:8080/"
        },
        "id": "teIzl95vSqDc",
        "outputId": "90eb7e7c-005a-4b8a-e13e-05c75d76382c"
      },
      "execution_count": 4,
      "outputs": [
        {
          "output_type": "stream",
          "name": "stdout",
          "text": [
            "Digite a nota 1: 5\n",
            "Digite a nota 2: 9\n",
            "Aprovado\n",
            "7.4\n"
          ]
        }
      ]
    },
    {
      "cell_type": "markdown",
      "source": [
        "## Ex 03) Dado o algoritmo a seguir, elabore o código python do programa em questão:\n",
        "\n",
        "\n",
        "Início\n",
        "\n",
        "Leia os três valores: a, b e c.\n",
        "\n",
        "Compare os valores:\n",
        "\n",
        "Se a é menor ou igual a b e a é menor ou igual a c, então a é o menor valor.\n",
        "\n",
        "Caso contrário, se b é menor ou igual a a e b é menor ou igual a c, então b é o menor valor.\n",
        "\n",
        "Caso contrário, c é o menor valor.\n",
        "\n",
        "Exiba o menor valor.\n",
        "\n",
        "Fim"
      ],
      "metadata": {
        "id": "p_tG13nHTJ4h"
      }
    },
    {
      "cell_type": "code",
      "source": [
        "a = float(input(\"Digite o valor de a: \"))\n",
        "b = float(input(\"Digite o valor de b: \"))\n",
        "c = float(input(\"Digite o valor de c: \"))\n",
        "if a<=b and a<=c:\n",
        "  menor=a\n",
        "elif b<=a and b<=c:\n",
        "  menor = b\n",
        "else:\n",
        "  menor = c\n",
        "print(menor)"
      ],
      "metadata": {
        "colab": {
          "base_uri": "https://localhost:8080/"
        },
        "id": "0YNx-jzCTLLB",
        "outputId": "608d8380-4fc5-4613-cc62-e04f4129a116"
      },
      "execution_count": 5,
      "outputs": [
        {
          "output_type": "stream",
          "name": "stdout",
          "text": [
            "Digite o valor de a: 5\n",
            "Digite o valor de b: 3\n",
            "Digite o valor de c: 6\n",
            "3.0\n"
          ]
        }
      ]
    }
  ]
}